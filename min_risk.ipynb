{
 "cells": [
  {
   "cell_type": "code",
   "execution_count": 88,
   "metadata": {},
   "outputs": [],
   "source": [
    "import pandas as pd\n",
    "import numpy as np\n",
    "\n",
    "import re\n",
    "import math\n",
    "\n",
    "import matplotlib.pyplot as plt\n",
    "import seaborn as sns\n",
    "import scipy.stats as ss\n",
    "\n",
    "from sklearn.model_selection import train_test_split\n",
    "from sklearn.metrics import accuracy_score, precision_score, recall_score, confusion_matrix, precision_recall_curve\n",
    "from catboost import Pool, CatBoostClassifier\n",
    "\n",
    "from scipy.stats import pearsonr, chi2_contingency\n",
    "from itertools import combinations\n",
    "from statsmodels.stats.proportion import proportion_confint"
   ]
  },
  {
   "cell_type": "markdown",
   "metadata": {},
   "source": [
    "Use the Lending Club dataset provided by Nathan George that has all Lending Club loan features. This dataset contains more than 2 million rows so to reduce the processing times, I only selected the loans issued in 2018 (≈0.5 million rows)"
   ]
  },
  {
   "cell_type": "markdown",
   "metadata": {},
   "source": [
    "## Data Preprocessing"
   ]
  },
  {
   "cell_type": "markdown",
   "metadata": {},
   "source": [
    "### 1. all the available features"
   ]
  },
  {
   "cell_type": "code",
   "execution_count": 3,
   "metadata": {},
   "outputs": [
    {
     "name": "stderr",
     "output_type": "stream",
     "text": [
      "/Users/jinxiaowei/anaconda3/lib/python3.7/site-packages/IPython/core/interactiveshell.py:3057: DtypeWarning: Columns (0,19,49,59,118,129,130,131,134,135,136,139,145,146,147) have mixed types. Specify dtype option on import or set low_memory=False.\n",
      "  interactivity=interactivity, compiler=compiler, result=result)\n"
     ]
    },
    {
     "data": {
      "text/html": [
       "<div>\n",
       "<style scoped>\n",
       "    .dataframe tbody tr th:only-of-type {\n",
       "        vertical-align: middle;\n",
       "    }\n",
       "\n",
       "    .dataframe tbody tr th {\n",
       "        vertical-align: top;\n",
       "    }\n",
       "\n",
       "    .dataframe thead th {\n",
       "        text-align: right;\n",
       "    }\n",
       "</style>\n",
       "<table border=\"1\" class=\"dataframe\">\n",
       "  <thead>\n",
       "    <tr style=\"text-align: right;\">\n",
       "      <th></th>\n",
       "      <th>id</th>\n",
       "      <th>member_id</th>\n",
       "      <th>loan_amnt</th>\n",
       "      <th>funded_amnt</th>\n",
       "      <th>funded_amnt_inv</th>\n",
       "      <th>term</th>\n",
       "      <th>int_rate</th>\n",
       "      <th>installment</th>\n",
       "      <th>grade</th>\n",
       "      <th>sub_grade</th>\n",
       "      <th>...</th>\n",
       "      <th>hardship_payoff_balance_amount</th>\n",
       "      <th>hardship_last_payment_amount</th>\n",
       "      <th>disbursement_method</th>\n",
       "      <th>debt_settlement_flag</th>\n",
       "      <th>debt_settlement_flag_date</th>\n",
       "      <th>settlement_status</th>\n",
       "      <th>settlement_date</th>\n",
       "      <th>settlement_amount</th>\n",
       "      <th>settlement_percentage</th>\n",
       "      <th>settlement_term</th>\n",
       "    </tr>\n",
       "  </thead>\n",
       "  <tbody>\n",
       "    <tr>\n",
       "      <th>0</th>\n",
       "      <td>130954621</td>\n",
       "      <td>NaN</td>\n",
       "      <td>5000.0</td>\n",
       "      <td>5000.0</td>\n",
       "      <td>5000.0</td>\n",
       "      <td>36 months</td>\n",
       "      <td>20.39</td>\n",
       "      <td>186.82</td>\n",
       "      <td>D</td>\n",
       "      <td>D4</td>\n",
       "      <td>...</td>\n",
       "      <td>NaN</td>\n",
       "      <td>NaN</td>\n",
       "      <td>Cash</td>\n",
       "      <td>N</td>\n",
       "      <td>NaN</td>\n",
       "      <td>NaN</td>\n",
       "      <td>NaN</td>\n",
       "      <td>NaN</td>\n",
       "      <td>NaN</td>\n",
       "      <td>NaN</td>\n",
       "    </tr>\n",
       "    <tr>\n",
       "      <th>1</th>\n",
       "      <td>130964697</td>\n",
       "      <td>NaN</td>\n",
       "      <td>15000.0</td>\n",
       "      <td>15000.0</td>\n",
       "      <td>15000.0</td>\n",
       "      <td>36 months</td>\n",
       "      <td>9.92</td>\n",
       "      <td>483.45</td>\n",
       "      <td>B</td>\n",
       "      <td>B2</td>\n",
       "      <td>...</td>\n",
       "      <td>NaN</td>\n",
       "      <td>NaN</td>\n",
       "      <td>Cash</td>\n",
       "      <td>N</td>\n",
       "      <td>NaN</td>\n",
       "      <td>NaN</td>\n",
       "      <td>NaN</td>\n",
       "      <td>NaN</td>\n",
       "      <td>NaN</td>\n",
       "      <td>NaN</td>\n",
       "    </tr>\n",
       "    <tr>\n",
       "      <th>2</th>\n",
       "      <td>130955326</td>\n",
       "      <td>NaN</td>\n",
       "      <td>11200.0</td>\n",
       "      <td>11200.0</td>\n",
       "      <td>11200.0</td>\n",
       "      <td>60 months</td>\n",
       "      <td>30.79</td>\n",
       "      <td>367.82</td>\n",
       "      <td>G</td>\n",
       "      <td>G1</td>\n",
       "      <td>...</td>\n",
       "      <td>NaN</td>\n",
       "      <td>NaN</td>\n",
       "      <td>Cash</td>\n",
       "      <td>N</td>\n",
       "      <td>NaN</td>\n",
       "      <td>NaN</td>\n",
       "      <td>NaN</td>\n",
       "      <td>NaN</td>\n",
       "      <td>NaN</td>\n",
       "      <td>NaN</td>\n",
       "    </tr>\n",
       "    <tr>\n",
       "      <th>3</th>\n",
       "      <td>130504052</td>\n",
       "      <td>NaN</td>\n",
       "      <td>25000.0</td>\n",
       "      <td>25000.0</td>\n",
       "      <td>25000.0</td>\n",
       "      <td>60 months</td>\n",
       "      <td>21.85</td>\n",
       "      <td>688.35</td>\n",
       "      <td>D</td>\n",
       "      <td>D5</td>\n",
       "      <td>...</td>\n",
       "      <td>NaN</td>\n",
       "      <td>NaN</td>\n",
       "      <td>Cash</td>\n",
       "      <td>N</td>\n",
       "      <td>NaN</td>\n",
       "      <td>NaN</td>\n",
       "      <td>NaN</td>\n",
       "      <td>NaN</td>\n",
       "      <td>NaN</td>\n",
       "      <td>NaN</td>\n",
       "    </tr>\n",
       "    <tr>\n",
       "      <th>4</th>\n",
       "      <td>130956066</td>\n",
       "      <td>NaN</td>\n",
       "      <td>3000.0</td>\n",
       "      <td>3000.0</td>\n",
       "      <td>3000.0</td>\n",
       "      <td>36 months</td>\n",
       "      <td>7.34</td>\n",
       "      <td>93.10</td>\n",
       "      <td>A</td>\n",
       "      <td>A4</td>\n",
       "      <td>...</td>\n",
       "      <td>NaN</td>\n",
       "      <td>NaN</td>\n",
       "      <td>Cash</td>\n",
       "      <td>N</td>\n",
       "      <td>NaN</td>\n",
       "      <td>NaN</td>\n",
       "      <td>NaN</td>\n",
       "      <td>NaN</td>\n",
       "      <td>NaN</td>\n",
       "      <td>NaN</td>\n",
       "    </tr>\n",
       "  </tbody>\n",
       "</table>\n",
       "<p>5 rows × 151 columns</p>\n",
       "</div>"
      ],
      "text/plain": [
       "          id  member_id  loan_amnt  funded_amnt  funded_amnt_inv        term  \\\n",
       "0  130954621        NaN     5000.0       5000.0           5000.0   36 months   \n",
       "1  130964697        NaN    15000.0      15000.0          15000.0   36 months   \n",
       "2  130955326        NaN    11200.0      11200.0          11200.0   60 months   \n",
       "3  130504052        NaN    25000.0      25000.0          25000.0   60 months   \n",
       "4  130956066        NaN     3000.0       3000.0           3000.0   36 months   \n",
       "\n",
       "   int_rate  installment grade sub_grade  ... hardship_payoff_balance_amount  \\\n",
       "0     20.39       186.82     D        D4  ...                            NaN   \n",
       "1      9.92       483.45     B        B2  ...                            NaN   \n",
       "2     30.79       367.82     G        G1  ...                            NaN   \n",
       "3     21.85       688.35     D        D5  ...                            NaN   \n",
       "4      7.34        93.10     A        A4  ...                            NaN   \n",
       "\n",
       "  hardship_last_payment_amount disbursement_method  debt_settlement_flag  \\\n",
       "0                          NaN                Cash                     N   \n",
       "1                          NaN                Cash                     N   \n",
       "2                          NaN                Cash                     N   \n",
       "3                          NaN                Cash                     N   \n",
       "4                          NaN                Cash                     N   \n",
       "\n",
       "  debt_settlement_flag_date settlement_status settlement_date  \\\n",
       "0                       NaN               NaN             NaN   \n",
       "1                       NaN               NaN             NaN   \n",
       "2                       NaN               NaN             NaN   \n",
       "3                       NaN               NaN             NaN   \n",
       "4                       NaN               NaN             NaN   \n",
       "\n",
       "  settlement_amount settlement_percentage settlement_term  \n",
       "0               NaN                   NaN             NaN  \n",
       "1               NaN                   NaN             NaN  \n",
       "2               NaN                   NaN             NaN  \n",
       "3               NaN                   NaN             NaN  \n",
       "4               NaN                   NaN             NaN  \n",
       "\n",
       "[5 rows x 151 columns]"
      ]
     },
     "execution_count": 3,
     "metadata": {},
     "output_type": "execute_result"
    }
   ],
   "source": [
    "data = pd.read_csv(\n",
    "    '/Users/jinxiaowei/Desktop/Data Science prep/github/min_risk/minimize_risk/accepted_2007_to_2018Q4.csv',\n",
    "    parse_dates=['issue_d'], infer_datetime_format=True)\n",
    "data = data[(data.issue_d >= '2018-01-01 00:00:00') & (data.issue_d < '2019-01-01 00:00:00')]\n",
    "data = data.reset_index(drop=True)\n",
    "data.head()"
   ]
  },
  {
   "cell_type": "markdown",
   "metadata": {},
   "source": [
    "This dataset contains more than 150 features but some of them are only relevant after the loan is issued and therefore, not available at the moment of investing. To get the list of features that are visible to investors, I use the Lending Club Data Dictionary provided by Wendy Kan (the sheet called \"Browse Notes\")"
   ]
  },
  {
   "cell_type": "code",
   "execution_count": 4,
   "metadata": {},
   "outputs": [
    {
     "data": {
      "text/html": [
       "<div>\n",
       "<style scoped>\n",
       "    .dataframe tbody tr th:only-of-type {\n",
       "        vertical-align: middle;\n",
       "    }\n",
       "\n",
       "    .dataframe tbody tr th {\n",
       "        vertical-align: top;\n",
       "    }\n",
       "\n",
       "    .dataframe thead th {\n",
       "        text-align: right;\n",
       "    }\n",
       "</style>\n",
       "<table border=\"1\" class=\"dataframe\">\n",
       "  <thead>\n",
       "    <tr style=\"text-align: right;\">\n",
       "      <th></th>\n",
       "      <th>BrowseNotesFile</th>\n",
       "      <th>Description</th>\n",
       "    </tr>\n",
       "  </thead>\n",
       "  <tbody>\n",
       "    <tr>\n",
       "      <th>0</th>\n",
       "      <td>acceptD</td>\n",
       "      <td>The date which the borrower accepted  the offer</td>\n",
       "    </tr>\n",
       "    <tr>\n",
       "      <th>1</th>\n",
       "      <td>accNowDelinq</td>\n",
       "      <td>The number of accounts on which the borrower i...</td>\n",
       "    </tr>\n",
       "    <tr>\n",
       "      <th>2</th>\n",
       "      <td>accOpenPast24Mths</td>\n",
       "      <td>Number of trades opened in past 24 months.</td>\n",
       "    </tr>\n",
       "    <tr>\n",
       "      <th>3</th>\n",
       "      <td>addrState</td>\n",
       "      <td>The state provided by the borrower in the loan...</td>\n",
       "    </tr>\n",
       "    <tr>\n",
       "      <th>4</th>\n",
       "      <td>all_util</td>\n",
       "      <td>Balance to credit limit on all trades</td>\n",
       "    </tr>\n",
       "  </tbody>\n",
       "</table>\n",
       "</div>"
      ],
      "text/plain": [
       "     BrowseNotesFile                                        Description\n",
       "0            acceptD    The date which the borrower accepted  the offer\n",
       "1       accNowDelinq  The number of accounts on which the borrower i...\n",
       "2  accOpenPast24Mths         Number of trades opened in past 24 months.\n",
       "3          addrState  The state provided by the borrower in the loan...\n",
       "4           all_util              Balance to credit limit on all trades"
      ]
     },
     "execution_count": 4,
     "metadata": {},
     "output_type": "execute_result"
    }
   ],
   "source": [
    "browse_notes = pd.read_excel('./lending-club-loan-data/LCDataDictionary.xlsx',\n",
    "                             sheet_name=1)\n",
    "browse_notes.head()"
   ]
  },
  {
   "cell_type": "markdown",
   "metadata": {},
   "source": [
    "The missing lines due to Excel formatting are removed and the feature names are saved in browse_feat. Some of them, however, have a different spelling format from the one used in the loan dataset. This format uses capital letters instead of underscores so I identify them using using regular expressions and then correct them. For some features there are whitespaces in front of their names which I remove as well."
   ]
  },
  {
   "cell_type": "code",
   "execution_count": 5,
   "metadata": {},
   "outputs": [],
   "source": [
    "browse_feat = browse_notes['BrowseNotesFile'].dropna().values\n",
    "browse_feat = [re.sub('(?<![0-9_])(?=[A-Z0-9])', '_', x).lower().strip() for x in browse_feat]"
   ]
  },
  {
   "cell_type": "code",
   "execution_count": 12,
   "metadata": {},
   "outputs": [
    {
     "data": {
      "text/plain": [
       "array(['acc_now_delinq', 'acc_open_past_24mths', 'accept_d', 'addr_state',\n",
       "       'all_util', 'annual_inc', 'annual_inc_joint', 'application_type',\n",
       "       'avg_cur_bal', 'bc_open_to_buy', 'bc_util',\n",
       "       'chargeoff_within_12_mths', 'collections_12_mths_ex_med',\n",
       "       'credit_pull_d', 'delinq_2yrs', 'delinq_amnt', 'desc',\n",
       "       'disbursement_method', 'dti', 'dti_joint', 'earliest_cr_line',\n",
       "       'effective_int_rate', 'emp_length', 'emp_title', 'exp_d',\n",
       "       'exp_default_rate', 'fico_range_high', 'fico_range_low',\n",
       "       'funded_amnt', 'grade', 'home_ownership', 'id', 'il_util',\n",
       "       'ils_exp_d', 'initial_list_status', 'inq_fi', 'inq_last_12m',\n",
       "       'inq_last_6mths', 'installment', 'int_rate', 'list_d', 'loan_amnt',\n",
       "       'max_bal_bc', 'member_id', 'mo_sin_old_rev_tl_op',\n",
       "       'mo_sin_rcnt_rev_tl_op', 'mo_sin_rcnt_tl', 'mort_acc', 'msa',\n",
       "       'mths_since_last_delinq', 'mths_since_last_major_derog',\n",
       "       'mths_since_last_record', 'mths_since_rcnt_il',\n",
       "       'mths_since_recent_bc', 'mths_since_recent_revol_delinq',\n",
       "       'num_accts_ever_120_pd', 'num_actv_bc_tl', 'num_actv_rev_tl',\n",
       "       'num_bc_sats', 'num_bc_tl', 'num_il_tl', 'num_op_rev_tl',\n",
       "       'num_rev_accts', 'num_rev_tl_bal_gt_0', 'num_sats',\n",
       "       'num_tl_120dpd_2m', 'num_tl_30dpd', 'num_tl_90g_dpd_24m',\n",
       "       'num_tl_op_past_12m', 'open_acc', 'open_acc_6m', 'open_act_il',\n",
       "       'open_il_12m', 'open_il_24m', 'open_rv_12m', 'open_rv_24m',\n",
       "       'pct_tl_nvr_dlq', 'percent_bc_gt_75', 'pub_rec',\n",
       "       'pub_rec_bankruptcies', 'purpose', 'review_status',\n",
       "       'review_status_d', 'revol_bal', 'revol_bal_joint', 'revol_util',\n",
       "       'sec_app_chargeoff_within_12_mths',\n",
       "       'sec_app_collections_12_mths_ex_med', 'sec_app_earliest_cr_line',\n",
       "       'sec_app_fico_range_high', 'sec_app_fico_range_low',\n",
       "       'sec_app_inq_last_6mths', 'sec_app_mort_acc',\n",
       "       'sec_app_mths_since_last_major_derog', 'sec_app_num_rev_accts',\n",
       "       'sec_app_open_acc', 'sec_app_open_act_il', 'sec_app_revol_util',\n",
       "       'service_fee_rate', 'sub_grade', 'tax_liens', 'term', 'title',\n",
       "       'tot_coll_amt', 'tot_cur_bal', 'tot_hi_cred_lim', 'total_acc',\n",
       "       'total_bal_ex_mort', 'total_bal_il', 'total_bc_limit',\n",
       "       'total_cu_tl', 'total_il_high_credit_limit', 'total_rev_hi_lim',\n",
       "       'url', 'zip_code', 'verification_status', 'mths_since_recent_inq',\n",
       "       'mo_sin_old_il_acct', 'mths_since_recent_bc_dlq',\n",
       "       'verification_status_joint'], dtype='<U35')"
      ]
     },
     "execution_count": 12,
     "metadata": {},
     "output_type": "execute_result"
    }
   ],
   "source": [
    "browse_feat"
   ]
  },
  {
   "cell_type": "markdown",
   "metadata": {},
   "source": [
    "Still not all the features from \"Browse Notes\" browse_feat could be matched with the original features data_feat so I print out the unmatched features from both lists to see if some of them could be matched manually."
   ]
  },
  {
   "cell_type": "code",
   "execution_count": 8,
   "metadata": {},
   "outputs": [
    {
     "data": {
      "text/plain": [
       "array(['accept_d', 'credit_pull_d', 'effective_int_rate', 'exp_d',\n",
       "       'exp_default_rate', 'ils_exp_d', 'is_inc_v', 'list_d', 'msa',\n",
       "       'mths_since_most_recent_inq', 'mths_since_oldest_il_open',\n",
       "       'mths_since_recent_loan_delinq', 'review_status',\n",
       "       'review_status_d', 'service_fee_rate', 'verified_status_joint'],\n",
       "      dtype='<U35')"
      ]
     },
     "execution_count": 8,
     "metadata": {},
     "output_type": "execute_result"
    }
   ],
   "source": [
    "data_feat = data.columns.values\n",
    "np.setdiff1d(browse_feat, data_feat)"
   ]
  },
  {
   "cell_type": "code",
   "execution_count": 9,
   "metadata": {},
   "outputs": [
    {
     "data": {
      "text/plain": [
       "array(['collection_recovery_fee', 'debt_settlement_flag',\n",
       "       'debt_settlement_flag_date', 'deferral_term', 'funded_amnt_inv',\n",
       "       'hardship_amount', 'hardship_dpd', 'hardship_end_date',\n",
       "       'hardship_flag', 'hardship_last_payment_amount', 'hardship_length',\n",
       "       'hardship_loan_status', 'hardship_payoff_balance_amount',\n",
       "       'hardship_reason', 'hardship_start_date', 'hardship_status',\n",
       "       'hardship_type', 'issue_d', 'last_credit_pull_d',\n",
       "       'last_fico_range_high', 'last_fico_range_low', 'last_pymnt_amnt',\n",
       "       'last_pymnt_d', 'loan_status', 'mo_sin_old_il_acct',\n",
       "       'mths_since_recent_bc_dlq', 'mths_since_recent_inq',\n",
       "       'next_pymnt_d', 'orig_projected_additional_accrued_interest',\n",
       "       'out_prncp', 'out_prncp_inv', 'payment_plan_start_date',\n",
       "       'policy_code', 'pymnt_plan', 'recoveries', 'settlement_amount',\n",
       "       'settlement_date', 'settlement_percentage', 'settlement_status',\n",
       "       'settlement_term', 'total_pymnt', 'total_pymnt_inv',\n",
       "       'total_rec_int', 'total_rec_late_fee', 'total_rec_prncp',\n",
       "       'verification_status', 'verification_status_joint'], dtype=object)"
      ]
     },
     "execution_count": 9,
     "metadata": {},
     "output_type": "execute_result"
    }
   ],
   "source": [
    "np.setdiff1d(data_feat, browse_feat)"
   ]
  },
  {
   "cell_type": "markdown",
   "metadata": {},
   "source": [
    "Indeed some of the features are spelled differently but mean the same thing, for example verified_status_joint and verification_status_joint. So I remove wrong and add correct ones to the list browse_feat."
   ]
  },
  {
   "cell_type": "code",
   "execution_count": 10,
   "metadata": {},
   "outputs": [],
   "source": [
    "wrong = ['is_inc_v', 'mths_since_most_recent_inq', 'mths_since_oldest_il_open',\n",
    "         'mths_since_recent_loan_delinq', 'verified_status_joint']\n",
    "correct = ['verification_status', 'mths_since_recent_inq', 'mo_sin_old_il_acct',\n",
    "           'mths_since_recent_bc_dlq', 'verification_status_joint']\n",
    "\n",
    "browse_feat = np.setdiff1d(browse_feat, wrong)\n",
    "browse_feat = np.append(browse_feat, correct)"
   ]
  },
  {
   "cell_type": "markdown",
   "metadata": {},
   "source": [
    "Finally all matching features are saved in the list avail_feat a new DataFrame X that only contains these features, is created. It is a good practice to set every newly created DataFrame as a copy in order to avoid hidden chained assignments and SettingWithCopyWarning further down the code."
   ]
  },
  {
   "cell_type": "code",
   "execution_count": 11,
   "metadata": {},
   "outputs": [
    {
     "name": "stdout",
     "output_type": "stream",
     "text": [
      "<class 'pandas.core.frame.DataFrame'>\n",
      "RangeIndex: 495242 entries, 0 to 495241\n",
      "Columns: 109 entries, acc_now_delinq to zip_code\n",
      "dtypes: float64(89), object(20)\n",
      "memory usage: 411.8+ MB\n"
     ]
    }
   ],
   "source": [
    "avail_feat = np.intersect1d(browse_feat, data_feat)\n",
    "X = data[avail_feat].copy()\n",
    "X.info()"
   ]
  },
  {
   "cell_type": "markdown",
   "metadata": {},
   "source": [
    "### 2.Feature Types"
   ]
  },
  {
   "cell_type": "code",
   "execution_count": 13,
   "metadata": {},
   "outputs": [
    {
     "data": {
      "text/html": [
       "<div>\n",
       "<style scoped>\n",
       "    .dataframe tbody tr th:only-of-type {\n",
       "        vertical-align: middle;\n",
       "    }\n",
       "\n",
       "    .dataframe tbody tr th {\n",
       "        vertical-align: top;\n",
       "    }\n",
       "\n",
       "    .dataframe thead th {\n",
       "        text-align: right;\n",
       "    }\n",
       "</style>\n",
       "<table border=\"1\" class=\"dataframe\">\n",
       "  <thead>\n",
       "    <tr style=\"text-align: right;\">\n",
       "      <th></th>\n",
       "      <th>addr_state</th>\n",
       "      <th>application_type</th>\n",
       "      <th>desc</th>\n",
       "      <th>disbursement_method</th>\n",
       "      <th>earliest_cr_line</th>\n",
       "      <th>emp_length</th>\n",
       "      <th>emp_title</th>\n",
       "      <th>grade</th>\n",
       "      <th>home_ownership</th>\n",
       "      <th>id</th>\n",
       "      <th>initial_list_status</th>\n",
       "      <th>purpose</th>\n",
       "      <th>sec_app_earliest_cr_line</th>\n",
       "      <th>sub_grade</th>\n",
       "      <th>term</th>\n",
       "      <th>title</th>\n",
       "      <th>url</th>\n",
       "      <th>verification_status</th>\n",
       "      <th>verification_status_joint</th>\n",
       "      <th>zip_code</th>\n",
       "    </tr>\n",
       "  </thead>\n",
       "  <tbody>\n",
       "    <tr>\n",
       "      <th>0</th>\n",
       "      <td>OK</td>\n",
       "      <td>Individual</td>\n",
       "      <td>NaN</td>\n",
       "      <td>Cash</td>\n",
       "      <td>Jan-2009</td>\n",
       "      <td>8 years</td>\n",
       "      <td>General Manager</td>\n",
       "      <td>D</td>\n",
       "      <td>RENT</td>\n",
       "      <td>130954621</td>\n",
       "      <td>w</td>\n",
       "      <td>other</td>\n",
       "      <td>NaN</td>\n",
       "      <td>D4</td>\n",
       "      <td>36 months</td>\n",
       "      <td>Other</td>\n",
       "      <td>https://lendingclub.com/browse/loanDetail.acti...</td>\n",
       "      <td>Verified</td>\n",
       "      <td>NaN</td>\n",
       "      <td>740xx</td>\n",
       "    </tr>\n",
       "    <tr>\n",
       "      <th>1</th>\n",
       "      <td>FL</td>\n",
       "      <td>Individual</td>\n",
       "      <td>NaN</td>\n",
       "      <td>Cash</td>\n",
       "      <td>Jul-1998</td>\n",
       "      <td>2 years</td>\n",
       "      <td>IT Director</td>\n",
       "      <td>B</td>\n",
       "      <td>OWN</td>\n",
       "      <td>130964697</td>\n",
       "      <td>w</td>\n",
       "      <td>debt_consolidation</td>\n",
       "      <td>NaN</td>\n",
       "      <td>B2</td>\n",
       "      <td>36 months</td>\n",
       "      <td>Debt consolidation</td>\n",
       "      <td>https://lendingclub.com/browse/loanDetail.acti...</td>\n",
       "      <td>Source Verified</td>\n",
       "      <td>NaN</td>\n",
       "      <td>337xx</td>\n",
       "    </tr>\n",
       "    <tr>\n",
       "      <th>2</th>\n",
       "      <td>NH</td>\n",
       "      <td>Joint App</td>\n",
       "      <td>NaN</td>\n",
       "      <td>Cash</td>\n",
       "      <td>Jul-2007</td>\n",
       "      <td>&lt; 1 year</td>\n",
       "      <td>Client services</td>\n",
       "      <td>G</td>\n",
       "      <td>RENT</td>\n",
       "      <td>130955326</td>\n",
       "      <td>w</td>\n",
       "      <td>medical</td>\n",
       "      <td>Feb-2005</td>\n",
       "      <td>G1</td>\n",
       "      <td>60 months</td>\n",
       "      <td>Medical expenses</td>\n",
       "      <td>https://lendingclub.com/browse/loanDetail.acti...</td>\n",
       "      <td>Not Verified</td>\n",
       "      <td>Not Verified</td>\n",
       "      <td>030xx</td>\n",
       "    </tr>\n",
       "    <tr>\n",
       "      <th>3</th>\n",
       "      <td>AL</td>\n",
       "      <td>Individual</td>\n",
       "      <td>NaN</td>\n",
       "      <td>Cash</td>\n",
       "      <td>Mar-1995</td>\n",
       "      <td>10+ years</td>\n",
       "      <td>Asphalt Supervisor</td>\n",
       "      <td>D</td>\n",
       "      <td>MORTGAGE</td>\n",
       "      <td>130504052</td>\n",
       "      <td>w</td>\n",
       "      <td>debt_consolidation</td>\n",
       "      <td>NaN</td>\n",
       "      <td>D5</td>\n",
       "      <td>60 months</td>\n",
       "      <td>Debt consolidation</td>\n",
       "      <td>https://lendingclub.com/browse/loanDetail.acti...</td>\n",
       "      <td>Source Verified</td>\n",
       "      <td>NaN</td>\n",
       "      <td>361xx</td>\n",
       "    </tr>\n",
       "    <tr>\n",
       "      <th>4</th>\n",
       "      <td>WA</td>\n",
       "      <td>Individual</td>\n",
       "      <td>NaN</td>\n",
       "      <td>Cash</td>\n",
       "      <td>Jan-1998</td>\n",
       "      <td>9 years</td>\n",
       "      <td>Scale Technician</td>\n",
       "      <td>A</td>\n",
       "      <td>RENT</td>\n",
       "      <td>130956066</td>\n",
       "      <td>w</td>\n",
       "      <td>major_purchase</td>\n",
       "      <td>NaN</td>\n",
       "      <td>A4</td>\n",
       "      <td>36 months</td>\n",
       "      <td>Major purchase</td>\n",
       "      <td>https://lendingclub.com/browse/loanDetail.acti...</td>\n",
       "      <td>Source Verified</td>\n",
       "      <td>NaN</td>\n",
       "      <td>988xx</td>\n",
       "    </tr>\n",
       "  </tbody>\n",
       "</table>\n",
       "</div>"
      ],
      "text/plain": [
       "  addr_state application_type desc disbursement_method earliest_cr_line  \\\n",
       "0         OK       Individual  NaN                Cash         Jan-2009   \n",
       "1         FL       Individual  NaN                Cash         Jul-1998   \n",
       "2         NH        Joint App  NaN                Cash         Jul-2007   \n",
       "3         AL       Individual  NaN                Cash         Mar-1995   \n",
       "4         WA       Individual  NaN                Cash         Jan-1998   \n",
       "\n",
       "  emp_length           emp_title grade home_ownership         id  \\\n",
       "0    8 years     General Manager     D           RENT  130954621   \n",
       "1    2 years        IT Director      B            OWN  130964697   \n",
       "2   < 1 year    Client services      G           RENT  130955326   \n",
       "3  10+ years  Asphalt Supervisor     D       MORTGAGE  130504052   \n",
       "4    9 years    Scale Technician     A           RENT  130956066   \n",
       "\n",
       "  initial_list_status             purpose sec_app_earliest_cr_line sub_grade  \\\n",
       "0                   w               other                      NaN        D4   \n",
       "1                   w  debt_consolidation                      NaN        B2   \n",
       "2                   w             medical                 Feb-2005        G1   \n",
       "3                   w  debt_consolidation                      NaN        D5   \n",
       "4                   w      major_purchase                      NaN        A4   \n",
       "\n",
       "         term               title  \\\n",
       "0   36 months               Other   \n",
       "1   36 months  Debt consolidation   \n",
       "2   60 months    Medical expenses   \n",
       "3   60 months  Debt consolidation   \n",
       "4   36 months      Major purchase   \n",
       "\n",
       "                                                 url verification_status  \\\n",
       "0  https://lendingclub.com/browse/loanDetail.acti...            Verified   \n",
       "1  https://lendingclub.com/browse/loanDetail.acti...     Source Verified   \n",
       "2  https://lendingclub.com/browse/loanDetail.acti...        Not Verified   \n",
       "3  https://lendingclub.com/browse/loanDetail.acti...     Source Verified   \n",
       "4  https://lendingclub.com/browse/loanDetail.acti...     Source Verified   \n",
       "\n",
       "  verification_status_joint zip_code  \n",
       "0                       NaN    740xx  \n",
       "1                       NaN    337xx  \n",
       "2              Not Verified    030xx  \n",
       "3                       NaN    361xx  \n",
       "4                       NaN    988xx  "
      ]
     },
     "execution_count": 13,
     "metadata": {},
     "output_type": "execute_result"
    }
   ],
   "source": [
    "X.select_dtypes('object').head()"
   ]
  },
  {
   "cell_type": "markdown",
   "metadata": {},
   "source": [
    "The features `earlist_cr_line` and `sec_app_earliest_cr_line` are dates and their type should be changed to `datetime`"
   ]
  },
  {
   "cell_type": "code",
   "execution_count": 14,
   "metadata": {},
   "outputs": [],
   "source": [
    "X['earliest_cr_line'] = pd.to_datetime(X['earliest_cr_line'], infer_datetime_format=True)\n",
    "X['sec_app_earliest_cr_line'] = pd.to_datetime(X['sec_app_earliest_cr_line'], infer_datetime_format=True)"
   ]
  },
  {
   "cell_type": "code",
   "execution_count": 18,
   "metadata": {},
   "outputs": [
    {
     "data": {
      "text/plain": [
       "0   2009-01-01\n",
       "1   1998-07-01\n",
       "2   2007-07-01\n",
       "3   1995-03-01\n",
       "4   1998-01-01\n",
       "Name: earliest_cr_line, dtype: datetime64[ns]"
      ]
     },
     "execution_count": 18,
     "metadata": {},
     "output_type": "execute_result"
    }
   ],
   "source": [
    "X['earliest_cr_line'].head()"
   ]
  },
  {
   "cell_type": "code",
   "execution_count": 19,
   "metadata": {},
   "outputs": [
    {
     "data": {
      "text/plain": [
       "0          NaT\n",
       "1          NaT\n",
       "2   2005-02-01\n",
       "3          NaT\n",
       "4          NaT\n",
       "Name: sec_app_earliest_cr_line, dtype: datetime64[ns]"
      ]
     },
     "execution_count": 19,
     "metadata": {},
     "output_type": "execute_result"
    }
   ],
   "source": [
    "X['sec_app_earliest_cr_line'].head()"
   ]
  },
  {
   "cell_type": "markdown",
   "metadata": {},
   "source": [
    "The features `emp_length` and `id` are numeric and their type should be changed to `float`\n",
    "For `emp_length`, replace the extreme cases:\n",
    "* `< 1 year` with `0 years`\n",
    "* `10+ year` with `11 years`"
   ]
  },
  {
   "cell_type": "code",
   "execution_count": 20,
   "metadata": {},
   "outputs": [],
   "source": [
    "# mapping values\n",
    "X['emp_length'] = X['emp_length'].replace({'< 1 year': '0 years', '10+ years': '11 years'})\n",
    "# transform types\n",
    "X['emp_length'] = X['emp_length'].str.extract('(\\d+)').astype('float')\n",
    "X['id'] = X['id'].astype('float')"
   ]
  },
  {
   "cell_type": "code",
   "execution_count": 21,
   "metadata": {},
   "outputs": [
    {
     "data": {
      "text/plain": [
       "0     8.0\n",
       "1     2.0\n",
       "2     0.0\n",
       "3    11.0\n",
       "4     9.0\n",
       "Name: emp_length, dtype: float64"
      ]
     },
     "execution_count": 21,
     "metadata": {},
     "output_type": "execute_result"
    }
   ],
   "source": [
    "X['emp_length'].head()"
   ]
  },
  {
   "cell_type": "code",
   "execution_count": 22,
   "metadata": {},
   "outputs": [
    {
     "data": {
      "text/plain": [
       "0    130954621.0\n",
       "1    130964697.0\n",
       "2    130955326.0\n",
       "3    130504052.0\n",
       "4    130956066.0\n",
       "Name: id, dtype: float64"
      ]
     },
     "execution_count": 22,
     "metadata": {},
     "output_type": "execute_result"
    }
   ],
   "source": [
    "X['id'].head()"
   ]
  },
  {
   "cell_type": "markdown",
   "metadata": {},
   "source": [
    "### 3. Missing Values"
   ]
  },
  {
   "cell_type": "code",
   "execution_count": 23,
   "metadata": {},
   "outputs": [
    {
     "data": {
      "text/plain": [
       "acc_now_delinq                              0\n",
       "acc_open_past_24mths                        0\n",
       "addr_state                                  0\n",
       "all_util                                  129\n",
       "annual_inc                                  0\n",
       "annual_inc_joint                       426257\n",
       "application_type                            0\n",
       "avg_cur_bal                                40\n",
       "bc_open_to_buy                           6588\n",
       "bc_util                                  6803\n",
       "chargeoff_within_12_mths                    0\n",
       "collections_12_mths_ex_med                  0\n",
       "delinq_2yrs                                 0\n",
       "delinq_amnt                                 0\n",
       "desc                                   495242\n",
       "disbursement_method                         0\n",
       "dti                                      1132\n",
       "dti_joint                              426257\n",
       "earliest_cr_line                            0\n",
       "emp_length                              41987\n",
       "emp_title                               54659\n",
       "fico_range_high                             0\n",
       "fico_range_low                              0\n",
       "funded_amnt                                 0\n",
       "grade                                       0\n",
       "home_ownership                              0\n",
       "id                                          0\n",
       "il_util                                 80824\n",
       "initial_list_status                         0\n",
       "inq_fi                                      0\n",
       "                                        ...  \n",
       "sec_app_chargeoff_within_12_mths       426257\n",
       "sec_app_collections_12_mths_ex_med     426257\n",
       "sec_app_earliest_cr_line               426257\n",
       "sec_app_fico_range_high                426257\n",
       "sec_app_fico_range_low                 426257\n",
       "sec_app_inq_last_6mths                 426257\n",
       "sec_app_mort_acc                       426257\n",
       "sec_app_mths_since_last_major_derog    472865\n",
       "sec_app_num_rev_accts                  426257\n",
       "sec_app_open_acc                       426257\n",
       "sec_app_open_act_il                    426257\n",
       "sec_app_revol_util                     427454\n",
       "sub_grade                                   0\n",
       "tax_liens                                   0\n",
       "term                                        0\n",
       "title                                       0\n",
       "tot_coll_amt                                0\n",
       "tot_cur_bal                                 0\n",
       "tot_hi_cred_lim                             0\n",
       "total_acc                                   0\n",
       "total_bal_ex_mort                           0\n",
       "total_bal_il                                0\n",
       "total_bc_limit                              0\n",
       "total_cu_tl                                 0\n",
       "total_il_high_credit_limit                  0\n",
       "total_rev_hi_lim                            0\n",
       "url                                         0\n",
       "verification_status                         0\n",
       "verification_status_joint              431231\n",
       "zip_code                                    0\n",
       "Length: 109, dtype: int64"
      ]
     },
     "execution_count": 23,
     "metadata": {},
     "output_type": "execute_result"
    }
   ],
   "source": [
    "X.isnull().sum()"
   ]
  },
  {
   "cell_type": "markdown",
   "metadata": {},
   "source": [
    "The ratio of missing value for each column:"
   ]
  },
  {
   "cell_type": "code",
   "execution_count": 26,
   "metadata": {},
   "outputs": [
    {
     "data": {
      "text/plain": [
       "acc_now_delinq                         0.000000\n",
       "acc_open_past_24mths                   0.000000\n",
       "addr_state                             0.000000\n",
       "all_util                               0.000260\n",
       "annual_inc                             0.000000\n",
       "annual_inc_joint                       0.860704\n",
       "application_type                       0.000000\n",
       "avg_cur_bal                            0.000081\n",
       "bc_open_to_buy                         0.013303\n",
       "bc_util                                0.013737\n",
       "chargeoff_within_12_mths               0.000000\n",
       "collections_12_mths_ex_med             0.000000\n",
       "delinq_2yrs                            0.000000\n",
       "delinq_amnt                            0.000000\n",
       "desc                                   1.000000\n",
       "disbursement_method                    0.000000\n",
       "dti                                    0.002286\n",
       "dti_joint                              0.860704\n",
       "earliest_cr_line                       0.000000\n",
       "emp_length                             0.084781\n",
       "emp_title                              0.110368\n",
       "fico_range_high                        0.000000\n",
       "fico_range_low                         0.000000\n",
       "funded_amnt                            0.000000\n",
       "grade                                  0.000000\n",
       "home_ownership                         0.000000\n",
       "id                                     0.000000\n",
       "il_util                                0.163201\n",
       "initial_list_status                    0.000000\n",
       "inq_fi                                 0.000000\n",
       "                                         ...   \n",
       "sec_app_chargeoff_within_12_mths       0.860704\n",
       "sec_app_collections_12_mths_ex_med     0.860704\n",
       "sec_app_earliest_cr_line               0.860704\n",
       "sec_app_fico_range_high                0.860704\n",
       "sec_app_fico_range_low                 0.860704\n",
       "sec_app_inq_last_6mths                 0.860704\n",
       "sec_app_mort_acc                       0.860704\n",
       "sec_app_mths_since_last_major_derog    0.954816\n",
       "sec_app_num_rev_accts                  0.860704\n",
       "sec_app_open_acc                       0.860704\n",
       "sec_app_open_act_il                    0.860704\n",
       "sec_app_revol_util                     0.863121\n",
       "sub_grade                              0.000000\n",
       "tax_liens                              0.000000\n",
       "term                                   0.000000\n",
       "title                                  0.000000\n",
       "tot_coll_amt                           0.000000\n",
       "tot_cur_bal                            0.000000\n",
       "tot_hi_cred_lim                        0.000000\n",
       "total_acc                              0.000000\n",
       "total_bal_ex_mort                      0.000000\n",
       "total_bal_il                           0.000000\n",
       "total_bc_limit                         0.000000\n",
       "total_cu_tl                            0.000000\n",
       "total_il_high_credit_limit             0.000000\n",
       "total_rev_hi_lim                       0.000000\n",
       "url                                    0.000000\n",
       "verification_status                    0.000000\n",
       "verification_status_joint              0.870748\n",
       "zip_code                               0.000000\n",
       "Length: 109, dtype: float64"
      ]
     },
     "execution_count": 26,
     "metadata": {},
     "output_type": "execute_result"
    }
   ],
   "source": [
    "na_ratio = X.isna().mean()\n",
    "na_ratio"
   ]
  },
  {
   "cell_type": "code",
   "execution_count": 27,
   "metadata": {},
   "outputs": [],
   "source": [
    "na_ratio = na_ratio[na_ratio != 0].sort_values()"
   ]
  },
  {
   "cell_type": "code",
   "execution_count": 28,
   "metadata": {},
   "outputs": [
    {
     "data": {
      "text/plain": [
       "pct_tl_nvr_dlq                         0.000004\n",
       "avg_cur_bal                            0.000081\n",
       "all_util                               0.000260\n",
       "revol_util                             0.001195\n",
       "dti                                    0.002286\n",
       "mths_since_recent_bc                   0.012515\n",
       "bc_open_to_buy                         0.013303\n",
       "percent_bc_gt_75                       0.013319\n",
       "bc_util                                0.013737\n",
       "num_tl_120dpd_2m                       0.025046\n",
       "mo_sin_old_il_acct                     0.037174\n",
       "mths_since_rcnt_il                     0.037174\n",
       "emp_length                             0.084781\n",
       "emp_title                              0.110368\n",
       "mths_since_recent_inq                  0.123788\n",
       "il_util                                0.163201\n",
       "mths_since_last_delinq                 0.558620\n",
       "mths_since_recent_revol_delinq         0.711878\n",
       "mths_since_last_major_derog            0.768128\n",
       "mths_since_recent_bc_dlq               0.801895\n",
       "sec_app_chargeoff_within_12_mths       0.860704\n",
       "sec_app_inq_last_6mths                 0.860704\n",
       "sec_app_fico_range_low                 0.860704\n",
       "sec_app_fico_range_high                0.860704\n",
       "sec_app_earliest_cr_line               0.860704\n",
       "sec_app_collections_12_mths_ex_med     0.860704\n",
       "revol_bal_joint                        0.860704\n",
       "sec_app_mort_acc                       0.860704\n",
       "sec_app_open_acc                       0.860704\n",
       "dti_joint                              0.860704\n",
       "sec_app_open_act_il                    0.860704\n",
       "annual_inc_joint                       0.860704\n",
       "sec_app_num_rev_accts                  0.860704\n",
       "sec_app_revol_util                     0.863121\n",
       "verification_status_joint              0.870748\n",
       "mths_since_last_record                 0.872822\n",
       "sec_app_mths_since_last_major_derog    0.954816\n",
       "desc                                   1.000000\n",
       "member_id                              1.000000\n",
       "dtype: float64"
      ]
     },
     "execution_count": 28,
     "metadata": {},
     "output_type": "execute_result"
    }
   ],
   "source": [
    "na_ratio"
   ]
  },
  {
   "cell_type": "markdown",
   "metadata": {},
   "source": [
    "Remove `desc` and `member_id` since no information is provided"
   ]
  },
  {
   "cell_type": "code",
   "execution_count": 29,
   "metadata": {},
   "outputs": [],
   "source": [
    "X = X.drop(['desc', 'member_id'], axis = 1, errors = 'ignore')"
   ]
  },
  {
   "cell_type": "code",
   "execution_count": 30,
   "metadata": {},
   "outputs": [
    {
     "data": {
      "text/html": [
       "<div>\n",
       "<style scoped>\n",
       "    .dataframe tbody tr th:only-of-type {\n",
       "        vertical-align: middle;\n",
       "    }\n",
       "\n",
       "    .dataframe tbody tr th {\n",
       "        vertical-align: top;\n",
       "    }\n",
       "\n",
       "    .dataframe thead th {\n",
       "        text-align: right;\n",
       "    }\n",
       "</style>\n",
       "<table border=\"1\" class=\"dataframe\">\n",
       "  <thead>\n",
       "    <tr style=\"text-align: right;\">\n",
       "      <th></th>\n",
       "      <th>acc_now_delinq</th>\n",
       "      <th>acc_open_past_24mths</th>\n",
       "      <th>addr_state</th>\n",
       "      <th>all_util</th>\n",
       "      <th>annual_inc</th>\n",
       "      <th>annual_inc_joint</th>\n",
       "      <th>application_type</th>\n",
       "      <th>avg_cur_bal</th>\n",
       "      <th>bc_open_to_buy</th>\n",
       "      <th>bc_util</th>\n",
       "      <th>...</th>\n",
       "      <th>total_bal_ex_mort</th>\n",
       "      <th>total_bal_il</th>\n",
       "      <th>total_bc_limit</th>\n",
       "      <th>total_cu_tl</th>\n",
       "      <th>total_il_high_credit_limit</th>\n",
       "      <th>total_rev_hi_lim</th>\n",
       "      <th>url</th>\n",
       "      <th>verification_status</th>\n",
       "      <th>verification_status_joint</th>\n",
       "      <th>zip_code</th>\n",
       "    </tr>\n",
       "  </thead>\n",
       "  <tbody>\n",
       "    <tr>\n",
       "      <th>0</th>\n",
       "      <td>0.0</td>\n",
       "      <td>3.0</td>\n",
       "      <td>OK</td>\n",
       "      <td>58.0</td>\n",
       "      <td>50000.0</td>\n",
       "      <td>NaN</td>\n",
       "      <td>Individual</td>\n",
       "      <td>3869.0</td>\n",
       "      <td>384.0</td>\n",
       "      <td>23.2</td>\n",
       "      <td>...</td>\n",
       "      <td>19344.0</td>\n",
       "      <td>14118.0</td>\n",
       "      <td>500.0</td>\n",
       "      <td>0.0</td>\n",
       "      <td>27820.0</td>\n",
       "      <td>500.0</td>\n",
       "      <td>https://lendingclub.com/browse/loanDetail.acti...</td>\n",
       "      <td>Verified</td>\n",
       "      <td>NaN</td>\n",
       "      <td>740xx</td>\n",
       "    </tr>\n",
       "    <tr>\n",
       "      <th>1</th>\n",
       "      <td>0.0</td>\n",
       "      <td>15.0</td>\n",
       "      <td>FL</td>\n",
       "      <td>51.0</td>\n",
       "      <td>196000.0</td>\n",
       "      <td>NaN</td>\n",
       "      <td>Individual</td>\n",
       "      <td>31468.0</td>\n",
       "      <td>7368.0</td>\n",
       "      <td>74.1</td>\n",
       "      <td>...</td>\n",
       "      <td>137713.0</td>\n",
       "      <td>113470.0</td>\n",
       "      <td>28500.0</td>\n",
       "      <td>1.0</td>\n",
       "      <td>147178.0</td>\n",
       "      <td>52400.0</td>\n",
       "      <td>https://lendingclub.com/browse/loanDetail.acti...</td>\n",
       "      <td>Source Verified</td>\n",
       "      <td>NaN</td>\n",
       "      <td>337xx</td>\n",
       "    </tr>\n",
       "    <tr>\n",
       "      <th>2</th>\n",
       "      <td>0.0</td>\n",
       "      <td>5.0</td>\n",
       "      <td>NH</td>\n",
       "      <td>84.0</td>\n",
       "      <td>44000.0</td>\n",
       "      <td>81000.0</td>\n",
       "      <td>Joint App</td>\n",
       "      <td>8397.0</td>\n",
       "      <td>632.0</td>\n",
       "      <td>66.7</td>\n",
       "      <td>...</td>\n",
       "      <td>67173.0</td>\n",
       "      <td>65647.0</td>\n",
       "      <td>1900.0</td>\n",
       "      <td>1.0</td>\n",
       "      <td>74167.0</td>\n",
       "      <td>6200.0</td>\n",
       "      <td>https://lendingclub.com/browse/loanDetail.acti...</td>\n",
       "      <td>Not Verified</td>\n",
       "      <td>Not Verified</td>\n",
       "      <td>030xx</td>\n",
       "    </tr>\n",
       "    <tr>\n",
       "      <th>3</th>\n",
       "      <td>0.0</td>\n",
       "      <td>2.0</td>\n",
       "      <td>AL</td>\n",
       "      <td>90.0</td>\n",
       "      <td>65000.0</td>\n",
       "      <td>NaN</td>\n",
       "      <td>Individual</td>\n",
       "      <td>10685.0</td>\n",
       "      <td>63.0</td>\n",
       "      <td>98.1</td>\n",
       "      <td>...</td>\n",
       "      <td>17039.0</td>\n",
       "      <td>8382.0</td>\n",
       "      <td>3300.0</td>\n",
       "      <td>3.0</td>\n",
       "      <td>10220.0</td>\n",
       "      <td>8800.0</td>\n",
       "      <td>https://lendingclub.com/browse/loanDetail.acti...</td>\n",
       "      <td>Source Verified</td>\n",
       "      <td>NaN</td>\n",
       "      <td>361xx</td>\n",
       "    </tr>\n",
       "    <tr>\n",
       "      <th>4</th>\n",
       "      <td>0.0</td>\n",
       "      <td>3.0</td>\n",
       "      <td>WA</td>\n",
       "      <td>1.0</td>\n",
       "      <td>52000.0</td>\n",
       "      <td>NaN</td>\n",
       "      <td>Individual</td>\n",
       "      <td>25099.0</td>\n",
       "      <td>30359.0</td>\n",
       "      <td>0.5</td>\n",
       "      <td>...</td>\n",
       "      <td>141.0</td>\n",
       "      <td>0.0</td>\n",
       "      <td>30500.0</td>\n",
       "      <td>2.0</td>\n",
       "      <td>0.0</td>\n",
       "      <td>31000.0</td>\n",
       "      <td>https://lendingclub.com/browse/loanDetail.acti...</td>\n",
       "      <td>Source Verified</td>\n",
       "      <td>NaN</td>\n",
       "      <td>988xx</td>\n",
       "    </tr>\n",
       "  </tbody>\n",
       "</table>\n",
       "<p>5 rows × 107 columns</p>\n",
       "</div>"
      ],
      "text/plain": [
       "   acc_now_delinq  acc_open_past_24mths addr_state  all_util  annual_inc  \\\n",
       "0             0.0                   3.0         OK      58.0     50000.0   \n",
       "1             0.0                  15.0         FL      51.0    196000.0   \n",
       "2             0.0                   5.0         NH      84.0     44000.0   \n",
       "3             0.0                   2.0         AL      90.0     65000.0   \n",
       "4             0.0                   3.0         WA       1.0     52000.0   \n",
       "\n",
       "   annual_inc_joint application_type  avg_cur_bal  bc_open_to_buy  bc_util  \\\n",
       "0               NaN       Individual       3869.0           384.0     23.2   \n",
       "1               NaN       Individual      31468.0          7368.0     74.1   \n",
       "2           81000.0        Joint App       8397.0           632.0     66.7   \n",
       "3               NaN       Individual      10685.0            63.0     98.1   \n",
       "4               NaN       Individual      25099.0         30359.0      0.5   \n",
       "\n",
       "   ...  total_bal_ex_mort  total_bal_il  total_bc_limit  total_cu_tl  \\\n",
       "0  ...            19344.0       14118.0           500.0          0.0   \n",
       "1  ...           137713.0      113470.0         28500.0          1.0   \n",
       "2  ...            67173.0       65647.0          1900.0          1.0   \n",
       "3  ...            17039.0        8382.0          3300.0          3.0   \n",
       "4  ...              141.0           0.0         30500.0          2.0   \n",
       "\n",
       "  total_il_high_credit_limit  total_rev_hi_lim  \\\n",
       "0                    27820.0             500.0   \n",
       "1                   147178.0           52400.0   \n",
       "2                    74167.0            6200.0   \n",
       "3                    10220.0            8800.0   \n",
       "4                        0.0           31000.0   \n",
       "\n",
       "                                                 url verification_status  \\\n",
       "0  https://lendingclub.com/browse/loanDetail.acti...            Verified   \n",
       "1  https://lendingclub.com/browse/loanDetail.acti...     Source Verified   \n",
       "2  https://lendingclub.com/browse/loanDetail.acti...        Not Verified   \n",
       "3  https://lendingclub.com/browse/loanDetail.acti...     Source Verified   \n",
       "4  https://lendingclub.com/browse/loanDetail.acti...     Source Verified   \n",
       "\n",
       "   verification_status_joint zip_code  \n",
       "0                        NaN    740xx  \n",
       "1                        NaN    337xx  \n",
       "2               Not Verified    030xx  \n",
       "3                        NaN    361xx  \n",
       "4                        NaN    988xx  \n",
       "\n",
       "[5 rows x 107 columns]"
      ]
     },
     "execution_count": 30,
     "metadata": {},
     "output_type": "execute_result"
    }
   ],
   "source": [
    "X.head()"
   ]
  },
  {
   "cell_type": "markdown",
   "metadata": {},
   "source": [
    "For categorical features `emp_title`, `verification_status_joint` the missing values should be filled with an empty string"
   ]
  },
  {
   "cell_type": "code",
   "execution_count": 33,
   "metadata": {},
   "outputs": [],
   "source": [
    "fillna_empty = ['emp_title', 'verification_status_joint']\n",
    "X[fillna_empty] = X[fillna_empty].fillna('')"
   ]
  },
  {
   "cell_type": "markdown",
   "metadata": {},
   "source": [
    "For some of the numeric features the missing values should be filled using the maximum value of the respective columns so these features are placed in the list `fill_max`. For example, the feature `mths_since_last_record` indicates the number of months since the last record (like bankruptcy, foreclosure, tax liens, etc.) so if missing, one should assume that no records were made and the number of months since the \"last\" record should be a maximum."
   ]
  },
  {
   "cell_type": "code",
   "execution_count": 34,
   "metadata": {},
   "outputs": [],
   "source": [
    "fillna_max = ['bc_open_to_buy', 'mo_sin_old_il_acct', 'mths_since_last_delinq',\n",
    "            'mths_since_last_major_derog', 'mths_since_last_record',\n",
    "            'mths_since_rcnt_il', 'mths_since_recent_bc', 'mths_since_recent_bc_dlq',\n",
    "            'mths_since_recent_inq', 'mths_since_recent_revol_delinq',\n",
    "            'pct_tl_nvr_dlq','sec_app_mths_since_last_major_derog']"
   ]
  },
  {
   "cell_type": "code",
   "execution_count": 35,
   "metadata": {},
   "outputs": [],
   "source": [
    "X[fillna_max] = X[fillna_max].fillna(X[fillna_max].max())"
   ]
  },
  {
   "cell_type": "markdown",
   "metadata": {},
   "source": [
    "For the rest of the numeric features the missing values should be filled using the minimum value of the respective columns so these features are placed in the list `fill_min`. For example, the feature `emp_length` indicates employment length. So if missing, one should assume that the borrower never worked and the number of working years should be a minimum."
   ]
  },
  {
   "cell_type": "code",
   "execution_count": 37,
   "metadata": {},
   "outputs": [],
   "source": [
    "fillna_min = np.setdiff1d(X.columns.values, np.append(fillna_empty,fillna_max))"
   ]
  },
  {
   "cell_type": "code",
   "execution_count": 39,
   "metadata": {},
   "outputs": [],
   "source": [
    "X[fillna_min] = X[fillna_min].fillna(X[fillna_min].min())"
   ]
  },
  {
   "cell_type": "code",
   "execution_count": 45,
   "metadata": {},
   "outputs": [
    {
     "name": "stdout",
     "output_type": "stream",
     "text": [
      "1\n",
      "0\n"
     ]
    }
   ],
   "source": [
    "# check if all the n/a are filled or not\n",
    "print(X.isnull().sum().nunique())\n",
    "print(X.isnull().sum()[0])"
   ]
  },
  {
   "cell_type": "markdown",
   "metadata": {},
   "source": [
    "### 4. Correlated Features"
   ]
  },
  {
   "cell_type": "markdown",
   "metadata": {},
   "source": [
    "* check unique values for numerical columns first\n",
    "* then check categorical features"
   ]
  },
  {
   "cell_type": "markdown",
   "metadata": {},
   "source": [
    "#### 4.1 Numerical Values"
   ]
  },
  {
   "cell_type": "code",
   "execution_count": 46,
   "metadata": {},
   "outputs": [],
   "source": [
    "num_features = X.select_dtypes('number').columns.values"
   ]
  },
  {
   "cell_type": "code",
   "execution_count": 47,
   "metadata": {},
   "outputs": [
    {
     "data": {
      "text/plain": [
       "num_tl_120dpd_2m                           1\n",
       "acc_now_delinq                             2\n",
       "num_tl_30dpd                               2\n",
       "inq_last_6mths                             6\n",
       "sec_app_inq_last_6mths                     7\n",
       "open_il_12m                                8\n",
       "pub_rec_bankruptcies                       8\n",
       "chargeoff_within_12_mths                   9\n",
       "collections_12_mths_ex_med                 9\n",
       "emp_length                                11\n",
       "open_acc_6m                               15\n",
       "pub_rec                                   16\n",
       "tax_liens                                 16\n",
       "sec_app_collections_12_mths_ex_med        17\n",
       "open_il_24m                               21\n",
       "sec_app_chargeoff_within_12_mths          21\n",
       "sec_app_mort_acc                          22\n",
       "open_rv_12m                               24\n",
       "num_tl_90g_dpd_24m                        25\n",
       "delinq_2yrs                               26\n",
       "mths_since_recent_inq                     26\n",
       "num_tl_op_past_12m                        26\n",
       "mort_acc                                  30\n",
       "inq_fi                                    30\n",
       "num_actv_bc_tl                            35\n",
       "sec_app_open_act_il                       37\n",
       "num_accts_ever_120_pd                     38\n",
       "fico_range_low                            38\n",
       "fico_range_high                           38\n",
       "open_rv_24m                               41\n",
       "                                       ...  \n",
       "mo_sin_rcnt_rev_tl_op                    286\n",
       "mths_since_rcnt_il                       352\n",
       "mths_since_recent_bc                     475\n",
       "mo_sin_old_il_acct                       507\n",
       "pct_tl_nvr_dlq                           588\n",
       "mo_sin_old_rev_tl_op                     731\n",
       "revol_util                              1136\n",
       "sec_app_revol_util                      1164\n",
       "bc_util                                 1210\n",
       "funded_amnt                             1559\n",
       "loan_amnt                               1559\n",
       "dti_joint                               3943\n",
       "total_bc_limit                          4585\n",
       "tot_coll_amt                            7608\n",
       "total_rev_hi_lim                        8303\n",
       "dti                                     9464\n",
       "annual_inc_joint                       10952\n",
       "max_bal_bc                             28148\n",
       "annual_inc                             30071\n",
       "installment                            35303\n",
       "revol_bal_joint                        44730\n",
       "avg_cur_bal                            62125\n",
       "revol_bal                              64413\n",
       "bc_open_to_buy                         68060\n",
       "total_bal_il                          115553\n",
       "total_il_high_credit_limit            128691\n",
       "total_bal_ex_mort                     139900\n",
       "tot_cur_bal                           254794\n",
       "tot_hi_cred_lim                       266282\n",
       "id                                    495242\n",
       "Length: 90, dtype: int64"
      ]
     },
     "execution_count": 47,
     "metadata": {},
     "output_type": "execute_result"
    }
   ],
   "source": [
    "X[num_features].nunique().sort_values()"
   ]
  },
  {
   "cell_type": "markdown",
   "metadata": {},
   "source": [
    "Remove `num_tl_120dpd_2m` since it is a constant."
   ]
  },
  {
   "cell_type": "code",
   "execution_count": 48,
   "metadata": {},
   "outputs": [],
   "source": [
    "X = X.drop(X['num_tl_120dpd_2m'], axis = 1, errors = 'ignore')"
   ]
  },
  {
   "cell_type": "markdown",
   "metadata": {},
   "source": [
    "Remove `id` since that is identical to every single person. That will potentially cause overfitting."
   ]
  },
  {
   "cell_type": "code",
   "execution_count": 49,
   "metadata": {},
   "outputs": [],
   "source": [
    "X = X.drop(X['id'], axis = 1, errors = 'ignore')"
   ]
  },
  {
   "cell_type": "markdown",
   "metadata": {},
   "source": [
    "For all pairs of numerical values, calculate their Pearson's R correlation coefficient, and store it in `corr_num_feat`"
   ]
  },
  {
   "cell_type": "code",
   "execution_count": 50,
   "metadata": {},
   "outputs": [
    {
     "name": "stderr",
     "output_type": "stream",
     "text": [
      "/Users/jinxiaowei/anaconda3/lib/python3.7/site-packages/scipy/stats/stats.py:3399: PearsonRConstantInputWarning: An input array is constant; the correlation coefficent is not defined.\n",
      "  warnings.warn(PearsonRConstantInputWarning())\n"
     ]
    }
   ],
   "source": [
    "num_feat = X.select_dtypes('number').columns.values\n",
    "# print the list of all the possible combinations\n",
    "comb_num_feat = np.array(list(combinations(num_feat, 2)))\n",
    "corr_num_feat = np.array([])\n",
    "for comb in comb_num_feat:\n",
    "    corr = pearsonr(X[comb[0]], X[comb[1]])[0]\n",
    "    corr_num_feat = np.append(corr_num_feat, corr)"
   ]
  },
  {
   "cell_type": "code",
   "execution_count": 51,
   "metadata": {},
   "outputs": [
    {
     "data": {
      "text/plain": [
       "array([['acc_now_delinq', 'acc_open_past_24mths'],\n",
       "       ['acc_now_delinq', 'all_util'],\n",
       "       ['acc_now_delinq', 'annual_inc'],\n",
       "       ...,\n",
       "       ['total_cu_tl', 'total_il_high_credit_limit'],\n",
       "       ['total_cu_tl', 'total_rev_hi_lim'],\n",
       "       ['total_il_high_credit_limit', 'total_rev_hi_lim']], dtype='<U35')"
      ]
     },
     "execution_count": 51,
     "metadata": {},
     "output_type": "execute_result"
    }
   ],
   "source": [
    "comb_num_feat"
   ]
  },
  {
   "cell_type": "code",
   "execution_count": 52,
   "metadata": {},
   "outputs": [
    {
     "data": {
      "text/plain": [
       "array([0.00059518, 0.00157713, 0.0022233 , ..., 0.17340478, 0.08317638,\n",
       "       0.18542588])"
      ]
     },
     "execution_count": 52,
     "metadata": {},
     "output_type": "execute_result"
    }
   ],
   "source": [
    "corr_num_feat"
   ]
  },
  {
   "cell_type": "markdown",
   "metadata": {},
   "source": [
    "Find out all the high correlation pairs, i.e correlation coefficient >= 0.9"
   ]
  },
  {
   "cell_type": "code",
   "execution_count": 53,
   "metadata": {},
   "outputs": [
    {
     "name": "stdout",
     "output_type": "stream",
     "text": [
      "[False False False ... False False False]\n"
     ]
    },
    {
     "name": "stderr",
     "output_type": "stream",
     "text": [
      "/Users/jinxiaowei/anaconda3/lib/python3.7/site-packages/ipykernel_launcher.py:1: RuntimeWarning: invalid value encountered in greater_equal\n",
      "  \"\"\"Entry point for launching an IPython kernel.\n"
     ]
    }
   ],
   "source": [
    "print(np.abs(corr_num_feat) >= 0.9)"
   ]
  },
  {
   "cell_type": "code",
   "execution_count": 54,
   "metadata": {},
   "outputs": [
    {
     "name": "stderr",
     "output_type": "stream",
     "text": [
      "/Users/jinxiaowei/anaconda3/lib/python3.7/site-packages/ipykernel_launcher.py:1: RuntimeWarning: invalid value encountered in greater_equal\n",
      "  \"\"\"Entry point for launching an IPython kernel.\n"
     ]
    }
   ],
   "source": [
    "high_corr_num = comb_num_feat[np.abs(corr_num_feat) >= 0.9]"
   ]
  },
  {
   "cell_type": "code",
   "execution_count": 55,
   "metadata": {},
   "outputs": [
    {
     "data": {
      "text/plain": [
       "array([['acc_now_delinq', 'num_tl_30dpd'],\n",
       "       ['fico_range_high', 'fico_range_low'],\n",
       "       ['funded_amnt', 'installment'],\n",
       "       ['funded_amnt', 'loan_amnt'],\n",
       "       ['installment', 'loan_amnt'],\n",
       "       ['mo_sin_old_il_acct', 'mths_since_rcnt_il'],\n",
       "       ['num_actv_rev_tl', 'num_rev_tl_bal_gt_0'],\n",
       "       ['num_sats', 'open_acc'],\n",
       "       ['sec_app_fico_range_high', 'sec_app_fico_range_low'],\n",
       "       ['sec_app_num_rev_accts', 'sec_app_open_acc'],\n",
       "       ['tot_cur_bal', 'tot_hi_cred_lim'],\n",
       "       ['total_bal_ex_mort', 'total_bal_il'],\n",
       "       ['total_bal_il', 'total_il_high_credit_limit']], dtype='<U35')"
      ]
     },
     "execution_count": 55,
     "metadata": {},
     "output_type": "execute_result"
    }
   ],
   "source": [
    "high_corr_num"
   ]
  },
  {
   "cell_type": "markdown",
   "metadata": {},
   "source": [
    "Drop one of these features in the high corrleation pairs."
   ]
  },
  {
   "cell_type": "code",
   "execution_count": 57,
   "metadata": {},
   "outputs": [
    {
     "data": {
      "text/plain": [
       "array(['acc_now_delinq', 'fico_range_high', 'funded_amnt', 'installment',\n",
       "       'mo_sin_old_il_acct', 'num_actv_rev_tl', 'num_sats',\n",
       "       'sec_app_fico_range_high', 'sec_app_num_rev_accts', 'tot_cur_bal',\n",
       "       'total_bal_ex_mort', 'total_bal_il'], dtype='<U35')"
      ]
     },
     "execution_count": 57,
     "metadata": {},
     "output_type": "execute_result"
    }
   ],
   "source": [
    "# avoid delete the same ones\n",
    "np.unique(high_corr_num[:,0])"
   ]
  },
  {
   "cell_type": "code",
   "execution_count": 58,
   "metadata": {},
   "outputs": [],
   "source": [
    "X = X.drop(np.unique(high_corr_num[:,0]), axis=1, errors ='ignore')"
   ]
  },
  {
   "cell_type": "markdown",
   "metadata": {},
   "source": [
    "#### 4.2 Caregorical Values"
   ]
  },
  {
   "cell_type": "code",
   "execution_count": 61,
   "metadata": {},
   "outputs": [],
   "source": [
    "cate_feat = X.select_dtypes('object').columns.values"
   ]
  },
  {
   "cell_type": "code",
   "execution_count": 62,
   "metadata": {},
   "outputs": [
    {
     "data": {
      "text/plain": [
       "application_type                  2\n",
       "disbursement_method               2\n",
       "initial_list_status               2\n",
       "term                              2\n",
       "verification_status               3\n",
       "home_ownership                    4\n",
       "verification_status_joint         4\n",
       "grade                             7\n",
       "title                            12\n",
       "purpose                          13\n",
       "sub_grade                        35\n",
       "addr_state                       50\n",
       "zip_code                        897\n",
       "emp_title                    129450\n",
       "url                          495242\n",
       "dtype: int64"
      ]
     },
     "execution_count": 62,
     "metadata": {},
     "output_type": "execute_result"
    }
   ],
   "source": [
    "X[cate_feat].nunique().sort_values()"
   ]
  },
  {
   "cell_type": "markdown",
   "metadata": {},
   "source": [
    "The same reason as `id` for numerical values, we delete `url` to avoid overfitting."
   ]
  },
  {
   "cell_type": "code",
   "execution_count": 63,
   "metadata": {},
   "outputs": [],
   "source": [
    "X = X.drop(X['url'], axis=1, errors='ignore')"
   ]
  },
  {
   "cell_type": "markdown",
   "metadata": {},
   "source": [
    "`emp_title` has a large number of unique values, so remove it."
   ]
  },
  {
   "cell_type": "code",
   "execution_count": 64,
   "metadata": {},
   "outputs": [],
   "source": [
    "X = X.drop(X['emp_title'], axis=1, errors='ignore')"
   ]
  },
  {
   "cell_type": "markdown",
   "metadata": {},
   "source": [
    "For all pairs of the categorical features `comb_cat_feat`, calculate the Cramer's V correlateion coefficient that is expressed through the chi-square statistic $\\chi^2$ of the contingency table: \n",
    "$$\n",
    "V = \\sqrt\\frac{\\chi^2}{n(min(K1,K2)-1)}\n",
    "$$\n",
    "\n",
    "where $n$ is the sum of all elements in the contingency table, $K1$ and $K2$ are the dimensions of the contingency table. note that Pearson's R correlation coefficient isn't applicable to categorical features."
   ]
  },
  {
   "cell_type": "code",
   "execution_count": 66,
   "metadata": {},
   "outputs": [],
   "source": [
    "cat_feat = X.select_dtypes('object').columns.values\n",
    "comb_cat_feat = np.array(list(combinations(cat_feat, 2)))\n",
    "corr_cat_feat = np.array([])"
   ]
  }
 ],
 "metadata": {
  "kernelspec": {
   "display_name": "Python 3",
   "language": "python",
   "name": "python3"
  },
  "language_info": {
   "codemirror_mode": {
    "name": "ipython",
    "version": 3
   },
   "file_extension": ".py",
   "mimetype": "text/x-python",
   "name": "python",
   "nbconvert_exporter": "python",
   "pygments_lexer": "ipython3",
   "version": "3.7.3"
  }
 },
 "nbformat": 4,
 "nbformat_minor": 4
}
